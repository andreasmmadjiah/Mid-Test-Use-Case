{
 "cells": [
  {
   "cell_type": "markdown",
   "metadata": {},
   "source": [
    "# Use Case 2 Regression\n",
    "<br>\n",
    "<br>\n",
    "**Dataset** : Apartment Price in Victoria. \n",
    "<br>\n",
    "You can download it here.\n",
    "https://drive.google.com/open?id=1j8TdXtCnEQlqn2esDbiuPay01pDooS-w\n",
    "<br>\n",
    "**Background** : The Dataset provides living area and conservation status.\n",
    "There are 218 observations and 16 variables.\n",
    "<br>\n",
    "**Objective** : Create a python script for the Use Case below, please upload the script after you finish.\n",
    "The Problem is to determine the best model and give the reason.\n",
    "<br>\n",
    "Tony who has profession as a broker wants to predict apartment price in Victoria based on living area environment and apartment conservation status. Determine the best model to predict and redefine new conservation variable in 3 level, A = 1A, B = 2A, C = 2B and 3A.\n",
    "<br>\n",
    "\n",
    "**Instructions** :\n",
    "Download the dataset as a CSV file and place it in your current working directory with the filename \"victoria.csv\".\n",
    "<br><br>\n",
    "\n",
    "1. Import Dataset: Load the dataset.\n",
    "2. Exploratory Data Analysis: Create summary of the dataset, with python function. (mean, median, modus, max, min, range)\n",
    "3. Data Visualization: Create any kind suitable plot of dataset, it will provide a lot of insight into the problem.\n",
    "4. Variable Selection: Choose the variable and its reason.\n",
    "5. Modelling: Create models using Regression\n",
    "6. Accuracy or Error: Calculate the Error using the helper function from the library, from dataset only"
   ]
  },
  {
   "cell_type": "markdown",
   "metadata": {},
   "source": [
    "## 1. Importing Necesary modules and dataset\n",
    "<br><br>\n",
    "We importing our dataet and preprocess it to remove null values, convert columns to its right types"
   ]
  },
  {
   "cell_type": "code",
   "execution_count": 109,
   "metadata": {},
   "outputs": [],
   "source": [
    "import pandas as pd\n",
    "import numpy as np\n",
    "import statsmodels.api as sm\n",
    "import matplotlib.pyplot as plt\n",
    "import seaborn as sns\n",
    "from sklearn.metrics import mean_squared_error"
   ]
  },
  {
   "cell_type": "code",
   "execution_count": 110,
   "metadata": {},
   "outputs": [
    {
     "data": {
      "text/html": [
       "<div>\n",
       "<style scoped>\n",
       "    .dataframe tbody tr th:only-of-type {\n",
       "        vertical-align: middle;\n",
       "    }\n",
       "\n",
       "    .dataframe tbody tr th {\n",
       "        vertical-align: top;\n",
       "    }\n",
       "\n",
       "    .dataframe thead th {\n",
       "        text-align: right;\n",
       "    }\n",
       "</style>\n",
       "<table border=\"1\" class=\"dataframe\">\n",
       "  <thead>\n",
       "    <tr style=\"text-align: right;\">\n",
       "      <th></th>\n",
       "      <th>row.labels</th>\n",
       "      <th>totalprice</th>\n",
       "      <th>area</th>\n",
       "      <th>zone</th>\n",
       "      <th>category</th>\n",
       "      <th>age</th>\n",
       "      <th>floor</th>\n",
       "      <th>rooms</th>\n",
       "      <th>out</th>\n",
       "      <th>conservation</th>\n",
       "      <th>toilets</th>\n",
       "      <th>garage</th>\n",
       "      <th>elevator</th>\n",
       "      <th>streetcategory</th>\n",
       "      <th>heating</th>\n",
       "      <th>tras</th>\n",
       "    </tr>\n",
       "  </thead>\n",
       "  <tbody>\n",
       "    <tr>\n",
       "      <th>0</th>\n",
       "      <td>1</td>\n",
       "      <td>228000</td>\n",
       "      <td>7530999756</td>\n",
       "      <td>Z45</td>\n",
       "      <td>4B</td>\n",
       "      <td>33</td>\n",
       "      <td>3</td>\n",
       "      <td>5</td>\n",
       "      <td>E100</td>\n",
       "      <td>2B</td>\n",
       "      <td>1</td>\n",
       "      <td>0</td>\n",
       "      <td>1</td>\n",
       "      <td>S3</td>\n",
       "      <td>3A</td>\n",
       "      <td>0</td>\n",
       "    </tr>\n",
       "    <tr>\n",
       "      <th>1</th>\n",
       "      <td>2</td>\n",
       "      <td>409000</td>\n",
       "      <td>1006500015</td>\n",
       "      <td>Z31</td>\n",
       "      <td>3B</td>\n",
       "      <td>5</td>\n",
       "      <td>7</td>\n",
       "      <td>5</td>\n",
       "      <td>E50</td>\n",
       "      <td>1A</td>\n",
       "      <td>2</td>\n",
       "      <td>1</td>\n",
       "      <td>1</td>\n",
       "      <td>S5</td>\n",
       "      <td>4A</td>\n",
       "      <td>1</td>\n",
       "    </tr>\n",
       "    <tr>\n",
       "      <th>2</th>\n",
       "      <td>3</td>\n",
       "      <td>200000</td>\n",
       "      <td>8887000275</td>\n",
       "      <td>Z52</td>\n",
       "      <td>3A</td>\n",
       "      <td>14</td>\n",
       "      <td>8</td>\n",
       "      <td>5</td>\n",
       "      <td>E50</td>\n",
       "      <td>1A</td>\n",
       "      <td>2</td>\n",
       "      <td>0</td>\n",
       "      <td>1</td>\n",
       "      <td>S2</td>\n",
       "      <td>3A</td>\n",
       "      <td>0</td>\n",
       "    </tr>\n",
       "    <tr>\n",
       "      <th>3</th>\n",
       "      <td>4</td>\n",
       "      <td>180000</td>\n",
       "      <td>6261000061</td>\n",
       "      <td>Z62</td>\n",
       "      <td>4A</td>\n",
       "      <td>41</td>\n",
       "      <td>3</td>\n",
       "      <td>4</td>\n",
       "      <td>E50</td>\n",
       "      <td>2A</td>\n",
       "      <td>1</td>\n",
       "      <td>0</td>\n",
       "      <td>0</td>\n",
       "      <td>S3</td>\n",
       "      <td>1A</td>\n",
       "      <td>0</td>\n",
       "    </tr>\n",
       "    <tr>\n",
       "      <th>4</th>\n",
       "      <td>5</td>\n",
       "      <td>443600</td>\n",
       "      <td>1461499939</td>\n",
       "      <td>Z31</td>\n",
       "      <td>3A</td>\n",
       "      <td>22</td>\n",
       "      <td>6</td>\n",
       "      <td>7</td>\n",
       "      <td>E100</td>\n",
       "      <td>1A</td>\n",
       "      <td>2</td>\n",
       "      <td>0</td>\n",
       "      <td>1</td>\n",
       "      <td>S4</td>\n",
       "      <td>4A</td>\n",
       "      <td>1</td>\n",
       "    </tr>\n",
       "  </tbody>\n",
       "</table>\n",
       "</div>"
      ],
      "text/plain": [
       "   row.labels totalprice        area zone category  age  floor  rooms   out  \\\n",
       "0           1     228000  7530999756  Z45       4B   33      3      5  E100   \n",
       "1           2     409000  1006500015  Z31       3B    5      7      5   E50   \n",
       "2           3     200000  8887000275  Z52       3A   14      8      5   E50   \n",
       "3           4     180000  6261000061  Z62       4A   41      3      4   E50   \n",
       "4           5     443600  1461499939  Z31       3A   22      6      7  E100   \n",
       "\n",
       "  conservation  toilets  garage  elevator streetcategory heating  tras  \n",
       "0           2B        1       0         1             S3      3A     0  \n",
       "1           1A        2       1         1             S5      4A     1  \n",
       "2           1A        2       0         1             S2      3A     0  \n",
       "3           2A        1       0         0             S3      1A     0  \n",
       "4           1A        2       0         1             S4      4A     1  "
      ]
     },
     "execution_count": 110,
     "metadata": {},
     "output_type": "execute_result"
    }
   ],
   "source": [
    "data =pd.read_csv('victoria.csv')\n",
    "data.head()"
   ]
  },
  {
   "cell_type": "markdown",
   "metadata": {},
   "source": [
    "<br><br>\n",
    "Drop row.labels as there are index already. "
   ]
  },
  {
   "cell_type": "code",
   "execution_count": 111,
   "metadata": {},
   "outputs": [
    {
     "name": "stdout",
     "output_type": "stream",
     "text": [
      "<class 'pandas.core.frame.DataFrame'>\n",
      "RangeIndex: 218 entries, 0 to 217\n",
      "Data columns (total 15 columns):\n",
      "totalprice        218 non-null object\n",
      "area              218 non-null object\n",
      "zone              218 non-null object\n",
      "category          218 non-null object\n",
      "age               218 non-null int64\n",
      "floor             218 non-null int64\n",
      "rooms             218 non-null int64\n",
      "out               218 non-null object\n",
      "conservation      218 non-null object\n",
      "toilets           218 non-null int64\n",
      "garage            218 non-null int64\n",
      "elevator          218 non-null int64\n",
      "streetcategory    218 non-null object\n",
      "heating           218 non-null object\n",
      "tras              218 non-null int64\n",
      "dtypes: int64(7), object(8)\n",
      "memory usage: 25.6+ KB\n"
     ]
    }
   ],
   "source": [
    "data=data.drop(columns='row.labels')\n",
    "data.info()"
   ]
  },
  {
   "cell_type": "markdown",
   "metadata": {},
   "source": [
    "<br><br>\n",
    "Notice that in our data, there are '.' that replaced by ',' as when previously we tried to convert *price* and *area* it return error"
   ]
  },
  {
   "cell_type": "code",
   "execution_count": 112,
   "metadata": {},
   "outputs": [],
   "source": [
    "data['totalprice']=data['totalprice'].str.replace(',','.')\n",
    "data['area']=data['area'].str.replace(',','.')"
   ]
  },
  {
   "cell_type": "code",
   "execution_count": 113,
   "metadata": {},
   "outputs": [
    {
     "name": "stdout",
     "output_type": "stream",
     "text": [
      "<class 'pandas.core.frame.DataFrame'>\n",
      "RangeIndex: 218 entries, 0 to 217\n",
      "Data columns (total 15 columns):\n",
      "totalprice        218 non-null float64\n",
      "area              218 non-null float64\n",
      "zone              218 non-null object\n",
      "category          218 non-null object\n",
      "age               218 non-null int64\n",
      "floor             218 non-null int64\n",
      "rooms             218 non-null int64\n",
      "out               218 non-null object\n",
      "conservation      218 non-null object\n",
      "toilets           218 non-null int64\n",
      "garage            218 non-null int64\n",
      "elevator          218 non-null int64\n",
      "streetcategory    218 non-null object\n",
      "heating           218 non-null object\n",
      "tras              218 non-null int64\n",
      "dtypes: float64(2), int64(7), object(6)\n",
      "memory usage: 25.6+ KB\n"
     ]
    }
   ],
   "source": [
    "#Notes that floor,rooms,toilets,garage,elevator are ordinal\n",
    "data['totalprice']=data['totalprice'].astype('float64')\n",
    "data['area']=data['area'].astype('float64')\n",
    "\n",
    "data.info()"
   ]
  },
  {
   "cell_type": "markdown",
   "metadata": {},
   "source": [
    "<br><br>\n",
    "Changing data category to fit the above requirements"
   ]
  },
  {
   "cell_type": "code",
   "execution_count": 114,
   "metadata": {},
   "outputs": [
    {
     "data": {
      "text/plain": [
       "A    161\n",
       "C     39\n",
       "B     18\n",
       "Name: conservation, dtype: int64"
      ]
     },
     "execution_count": 114,
     "metadata": {},
     "output_type": "execute_result"
    }
   ],
   "source": [
    "for i,cat in enumerate(data['conservation']):\n",
    "    if (data.loc[i,'conservation']=='1A'):\n",
    "        data.loc[i,'conservation']='A'\n",
    "    elif(data.loc[i,'conservation']=='2A'):\n",
    "        data.loc[i,'conservation']='B'\n",
    "    else:\n",
    "        data.loc[i,'conservation']='C'\n",
    "data['conservation'].value_counts()"
   ]
  },
  {
   "cell_type": "markdown",
   "metadata": {},
   "source": [
    "<br><br>\n",
    "## 2. Create Summary"
   ]
  },
  {
   "cell_type": "markdown",
   "metadata": {},
   "source": [
    "<br><br>\n",
    "First we split our data into numeric data and categorical data. Then we describe each data"
   ]
  },
  {
   "cell_type": "code",
   "execution_count": 115,
   "metadata": {},
   "outputs": [
    {
     "data": {
      "text/html": [
       "<div>\n",
       "<style scoped>\n",
       "    .dataframe tbody tr th:only-of-type {\n",
       "        vertical-align: middle;\n",
       "    }\n",
       "\n",
       "    .dataframe tbody tr th {\n",
       "        vertical-align: top;\n",
       "    }\n",
       "\n",
       "    .dataframe thead th {\n",
       "        text-align: right;\n",
       "    }\n",
       "</style>\n",
       "<table border=\"1\" class=\"dataframe\">\n",
       "  <thead>\n",
       "    <tr style=\"text-align: right;\">\n",
       "      <th></th>\n",
       "      <th>totalprice</th>\n",
       "      <th>area</th>\n",
       "      <th>age</th>\n",
       "      <th>floor</th>\n",
       "      <th>rooms</th>\n",
       "      <th>toilets</th>\n",
       "      <th>garage</th>\n",
       "      <th>elevator</th>\n",
       "      <th>tras</th>\n",
       "    </tr>\n",
       "  </thead>\n",
       "  <tbody>\n",
       "    <tr>\n",
       "      <th>count</th>\n",
       "      <td>218.000000</td>\n",
       "      <td>2.180000e+02</td>\n",
       "      <td>218.000000</td>\n",
       "      <td>218.000000</td>\n",
       "      <td>218.000000</td>\n",
       "      <td>218.000000</td>\n",
       "      <td>218.000000</td>\n",
       "      <td>218.000000</td>\n",
       "      <td>218.000000</td>\n",
       "    </tr>\n",
       "    <tr>\n",
       "      <th>mean</th>\n",
       "      <td>280741.523853</td>\n",
       "      <td>5.718657e+09</td>\n",
       "      <td>19.899083</td>\n",
       "      <td>4.440367</td>\n",
       "      <td>4.853211</td>\n",
       "      <td>1.467890</td>\n",
       "      <td>0.243119</td>\n",
       "      <td>0.798165</td>\n",
       "      <td>0.807339</td>\n",
       "    </tr>\n",
       "    <tr>\n",
       "      <th>std</th>\n",
       "      <td>69298.459358</td>\n",
       "      <td>3.455007e+09</td>\n",
       "      <td>14.595590</td>\n",
       "      <td>2.126988</td>\n",
       "      <td>0.634285</td>\n",
       "      <td>0.500116</td>\n",
       "      <td>0.450881</td>\n",
       "      <td>0.402293</td>\n",
       "      <td>0.406787</td>\n",
       "    </tr>\n",
       "    <tr>\n",
       "      <th>min</th>\n",
       "      <td>155000.000000</td>\n",
       "      <td>5.300000e+01</td>\n",
       "      <td>1.000000</td>\n",
       "      <td>1.000000</td>\n",
       "      <td>3.000000</td>\n",
       "      <td>1.000000</td>\n",
       "      <td>0.000000</td>\n",
       "      <td>0.000000</td>\n",
       "      <td>0.000000</td>\n",
       "    </tr>\n",
       "    <tr>\n",
       "      <th>25%</th>\n",
       "      <td>228500.000000</td>\n",
       "      <td>1.187250e+09</td>\n",
       "      <td>11.000000</td>\n",
       "      <td>3.000000</td>\n",
       "      <td>5.000000</td>\n",
       "      <td>1.000000</td>\n",
       "      <td>0.000000</td>\n",
       "      <td>1.000000</td>\n",
       "      <td>1.000000</td>\n",
       "    </tr>\n",
       "    <tr>\n",
       "      <th>50%</th>\n",
       "      <td>269750.000000</td>\n",
       "      <td>7.118500e+09</td>\n",
       "      <td>16.000000</td>\n",
       "      <td>4.000000</td>\n",
       "      <td>5.000000</td>\n",
       "      <td>1.000000</td>\n",
       "      <td>0.000000</td>\n",
       "      <td>1.000000</td>\n",
       "      <td>1.000000</td>\n",
       "    </tr>\n",
       "    <tr>\n",
       "      <th>75%</th>\n",
       "      <td>328625.000000</td>\n",
       "      <td>8.542750e+09</td>\n",
       "      <td>24.000000</td>\n",
       "      <td>5.000000</td>\n",
       "      <td>5.000000</td>\n",
       "      <td>2.000000</td>\n",
       "      <td>0.000000</td>\n",
       "      <td>1.000000</td>\n",
       "      <td>1.000000</td>\n",
       "    </tr>\n",
       "    <tr>\n",
       "      <th>max</th>\n",
       "      <td>560000.000000</td>\n",
       "      <td>9.992000e+09</td>\n",
       "      <td>118.000000</td>\n",
       "      <td>12.000000</td>\n",
       "      <td>7.000000</td>\n",
       "      <td>2.000000</td>\n",
       "      <td>2.000000</td>\n",
       "      <td>1.000000</td>\n",
       "      <td>2.000000</td>\n",
       "    </tr>\n",
       "  </tbody>\n",
       "</table>\n",
       "</div>"
      ],
      "text/plain": [
       "          totalprice          area         age       floor       rooms  \\\n",
       "count     218.000000  2.180000e+02  218.000000  218.000000  218.000000   \n",
       "mean   280741.523853  5.718657e+09   19.899083    4.440367    4.853211   \n",
       "std     69298.459358  3.455007e+09   14.595590    2.126988    0.634285   \n",
       "min    155000.000000  5.300000e+01    1.000000    1.000000    3.000000   \n",
       "25%    228500.000000  1.187250e+09   11.000000    3.000000    5.000000   \n",
       "50%    269750.000000  7.118500e+09   16.000000    4.000000    5.000000   \n",
       "75%    328625.000000  8.542750e+09   24.000000    5.000000    5.000000   \n",
       "max    560000.000000  9.992000e+09  118.000000   12.000000    7.000000   \n",
       "\n",
       "          toilets      garage    elevator        tras  \n",
       "count  218.000000  218.000000  218.000000  218.000000  \n",
       "mean     1.467890    0.243119    0.798165    0.807339  \n",
       "std      0.500116    0.450881    0.402293    0.406787  \n",
       "min      1.000000    0.000000    0.000000    0.000000  \n",
       "25%      1.000000    0.000000    1.000000    1.000000  \n",
       "50%      1.000000    0.000000    1.000000    1.000000  \n",
       "75%      2.000000    0.000000    1.000000    1.000000  \n",
       "max      2.000000    2.000000    1.000000    2.000000  "
      ]
     },
     "execution_count": 115,
     "metadata": {},
     "output_type": "execute_result"
    }
   ],
   "source": [
    "# No null value, now describe. For numeric\n",
    "categ=[]\n",
    "for i in data.columns:\n",
    "    if data[i].dtypes=='object':\n",
    "        categ.append(i)\n",
    "numer=data.drop(columns=categ)\n",
    "numer.describe()"
   ]
  },
  {
   "cell_type": "markdown",
   "metadata": {},
   "source": [
    "<br><br>\n",
    "There are to many values and it's hard to see description of our data. Below, we will see the visulization. "
   ]
  },
  {
   "cell_type": "code",
   "execution_count": 116,
   "metadata": {
    "scrolled": true
   },
   "outputs": [
    {
     "data": {
      "text/html": [
       "<div>\n",
       "<style scoped>\n",
       "    .dataframe tbody tr th:only-of-type {\n",
       "        vertical-align: middle;\n",
       "    }\n",
       "\n",
       "    .dataframe tbody tr th {\n",
       "        vertical-align: top;\n",
       "    }\n",
       "\n",
       "    .dataframe thead th {\n",
       "        text-align: right;\n",
       "    }\n",
       "</style>\n",
       "<table border=\"1\" class=\"dataframe\">\n",
       "  <thead>\n",
       "    <tr style=\"text-align: right;\">\n",
       "      <th></th>\n",
       "      <th>zone</th>\n",
       "      <th>category</th>\n",
       "      <th>out</th>\n",
       "      <th>conservation</th>\n",
       "      <th>streetcategory</th>\n",
       "      <th>heating</th>\n",
       "    </tr>\n",
       "  </thead>\n",
       "  <tbody>\n",
       "    <tr>\n",
       "      <th>count</th>\n",
       "      <td>218</td>\n",
       "      <td>218</td>\n",
       "      <td>218</td>\n",
       "      <td>218</td>\n",
       "      <td>218</td>\n",
       "      <td>218</td>\n",
       "    </tr>\n",
       "    <tr>\n",
       "      <th>unique</th>\n",
       "      <td>23</td>\n",
       "      <td>7</td>\n",
       "      <td>4</td>\n",
       "      <td>3</td>\n",
       "      <td>4</td>\n",
       "      <td>4</td>\n",
       "    </tr>\n",
       "    <tr>\n",
       "      <th>top</th>\n",
       "      <td>Z41</td>\n",
       "      <td>3B</td>\n",
       "      <td>E100</td>\n",
       "      <td>A</td>\n",
       "      <td>S3</td>\n",
       "      <td>3A</td>\n",
       "    </tr>\n",
       "    <tr>\n",
       "      <th>freq</th>\n",
       "      <td>18</td>\n",
       "      <td>77</td>\n",
       "      <td>122</td>\n",
       "      <td>161</td>\n",
       "      <td>107</td>\n",
       "      <td>149</td>\n",
       "    </tr>\n",
       "  </tbody>\n",
       "</table>\n",
       "</div>"
      ],
      "text/plain": [
       "       zone category   out conservation streetcategory heating\n",
       "count   218      218   218          218            218     218\n",
       "unique   23        7     4            3              4       4\n",
       "top     Z41       3B  E100            A             S3      3A\n",
       "freq     18       77   122          161            107     149"
      ]
     },
     "execution_count": 116,
     "metadata": {},
     "output_type": "execute_result"
    }
   ],
   "source": [
    "categ=data[categ]\n",
    "categ.describe()"
   ]
  },
  {
   "cell_type": "markdown",
   "metadata": {},
   "source": [
    "<br><br>\n",
    "We see which values is the top, unique and how many frequency of them. "
   ]
  },
  {
   "cell_type": "markdown",
   "metadata": {},
   "source": [
    "## 3. Create Data Visualization"
   ]
  },
  {
   "cell_type": "markdown",
   "metadata": {},
   "source": [
    "<br><br>\n",
    "We viz our data by dividing them to 2 categories, numeric and category data"
   ]
  },
  {
   "cell_type": "code",
   "execution_count": 117,
   "metadata": {},
   "outputs": [
    {
     "data": {
      "image/png": "[encoded data removed]",
      "text/plain": [
       "<Figure size 1080x504 with 9 Axes>"
      ]
     },
     "metadata": {
      "needs_background": "light"
     },
     "output_type": "display_data"
    }
   ],
   "source": [
    "f=plt.figure(figsize=(15,7))\n",
    "i=1\n",
    "for i in range(len(numer.columns)):\n",
    "    f.add_subplot(2,5,i+1)\n",
    "    if i<3:\n",
    "        sns.distplot(numer[numer.columns[i]])\n",
    "    else:\n",
    "        sns.countplot(numer[numer.columns[i]])\n",
    "    plt.subplots_adjust(hspace=0.5,wspace=0.5)\n",
    "plt.show()"
   ]
  },
  {
   "cell_type": "markdown",
   "metadata": {},
   "source": [
    "<br><br>\n",
    "From here, we can see distribution, and frequency from each of our data. For example we see that total price and Age has righ skewed distribution. price that is right skewed means  mostly, our price is not expensive (compared to other value in price). in Age, this means that mostly our apartment has age 10-20 years old. We can also see that mostly there are 2-5 floors in apartmen, there are 5 rooms most and mostly ther are no garage in our apartment victoria data. You can also see other insight using our data"
   ]
  },
  {
   "cell_type": "code",
   "execution_count": 118,
   "metadata": {},
   "outputs": [
    {
     "data": {
      "image/png": "[encoded data removed]",
      "text/plain": [
       "<Figure size 1080x504 with 6 Axes>"
      ]
     },
     "metadata": {
      "needs_background": "light"
     },
     "output_type": "display_data"
    }
   ],
   "source": [
    "f=plt.figure(figsize=(15,7))\n",
    "i=1\n",
    "for i in range(len(categ.columns)):\n",
    "    f.add_subplot(2,3,i+1)\n",
    "    sns.countplot(categ[categ.columns[i]])\n",
    "    if i==0:\n",
    "        plt.xticks(rotation=90,fontsize=8)\n",
    "    plt.subplots_adjust(hspace=0.5,wspace=0.5)\n",
    "    \n",
    "plt.show()"
   ]
  },
  {
   "cell_type": "markdown",
   "metadata": {},
   "source": [
    "<br><br>\n",
    "Frome here, we see that there are various zone in our data. there are mostly s3 streetcategory, 3A heating and many more. With viz we can see more clearly and find useful insight."
   ]
  },
  {
   "cell_type": "markdown",
   "metadata": {},
   "source": [
    "## 4. Variable Selection using Correlation and Boxplot"
   ]
  },
  {
   "cell_type": "code",
   "execution_count": 119,
   "metadata": {},
   "outputs": [
    {
     "data": {
      "text/plain": [
       "<matplotlib.axes._subplots.AxesSubplot at 0x27aa24f8240>"
      ]
     },
     "execution_count": 119,
     "metadata": {},
     "output_type": "execute_result"
    },
    {
     "data": {
      "image/png": "[encoded data removed]",
      "text/plain": [
       "<Figure size 1440x720 with 2 Axes>"
      ]
     },
     "metadata": {
      "needs_background": "light"
     },
     "output_type": "display_data"
    }
   ],
   "source": [
    "#create correlation with hitmap\n",
    "\n",
    "#create correlation\n",
    "corr = numer.corr(method = 'pearson')\n",
    "\n",
    "#convert correlation to numpy array\n",
    "mask = np.array(corr)\n",
    "\n",
    "#to mask the repetitive value for each pair\n",
    "mask[np.tril_indices_from(mask)] = False\n",
    "fig, ax = plt.subplots(figsize = (20,5))\n",
    "fig.set_size_inches(20,10)\n",
    "sns.heatmap(corr, mask = mask, vmax = 0.9, square = True, annot = True)"
   ]
  },
  {
   "cell_type": "markdown",
   "metadata": {},
   "source": [
    "<br><br>\n",
    "from here, we see that in total price, mostly numeric categories has more than 0.2, except floor. This means that using corelation, floor and total price does not has strong linearly relationship. But as famous quote says \"Corelation does not imply causation (and its inverse)\" we can not determine which variable should be dropped from this viz. You can see the discussion between this problem in this link :\n",
    "https://stats.stackexchange.com/questions/90711/can-independent-variables-with-low-correlation-with-dependent-variable-be-signif"
   ]
  },
  {
   "cell_type": "code",
   "execution_count": 120,
   "metadata": {},
   "outputs": [
    {
     "data": {
      "image/png": "[encoded data removed]",
      "text/plain": [
       "<Figure size 1440x720 with 6 Axes>"
      ]
     },
     "metadata": {
      "needs_background": "light"
     },
     "output_type": "display_data"
    }
   ],
   "source": [
    "f=plt.figure(figsize=(20,10))\n",
    "j=1\n",
    "for i in categ.columns:\n",
    "    f.add_subplot(2,3,j)\n",
    "    sns.boxplot(x=categ[i],y=numer['totalprice'])\n",
    "    if j==1:\n",
    "        plt.xticks(rotation=90)\n",
    "    j+=1\n",
    "plt.show()\n",
    "    "
   ]
  },
  {
   "cell_type": "markdown",
   "metadata": {},
   "source": [
    "<br><br>\n",
    "we see here the boxplot of each categories data to total price. We see that some category has similar distribution to each other as for exmaple out, but as there are mostly not similar, we still use all columns. In the next step we use variable selection in regression line using p-value"
   ]
  },
  {
   "cell_type": "markdown",
   "metadata": {},
   "source": [
    "## 5. Modelling and Variable Selection"
   ]
  },
  {
   "cell_type": "markdown",
   "metadata": {},
   "source": [
    "<br><br>\n",
    "WE use pandas get dummies to *one hot encoder* our categorical data because our machine learning model only accept non-categorical input. We use drop first as if we use all columns, we will create multicolinearity between columns. First, using all columns, we fit multiple linear regression model"
   ]
  },
  {
   "cell_type": "code",
   "execution_count": 121,
   "metadata": {},
   "outputs": [
    {
     "name": "stdout",
     "output_type": "stream",
     "text": [
      "                            OLS Regression Results                            \n",
      "==============================================================================\n",
      "Dep. Variable:             totalprice   R-squared:                       0.878\n",
      "Model:                            OLS   Adj. R-squared:                  0.844\n",
      "Method:                 Least Squares   F-statistic:                     26.04\n",
      "Date:                Thu, 10 Oct 2019   Prob (F-statistic):           9.92e-57\n",
      "Time:                        17:09:04   Log-Likelihood:                -2509.3\n",
      "No. Observations:                 218   AIC:                             5115.\n",
      "Df Residuals:                     170   BIC:                             5277.\n",
      "Df Model:                          47                                         \n",
      "Covariance Type:            nonrobust                                         \n",
      "=====================================================================================\n",
      "                        coef    std err          t      P>|t|      [0.025      0.975]\n",
      "-------------------------------------------------------------------------------------\n",
      "const              1.113e+05   3.58e+04      3.113      0.002    4.07e+04    1.82e+05\n",
      "area              -1.409e-06   6.67e-07     -2.113      0.036   -2.72e-06   -9.29e-08\n",
      "age                  87.6306    227.366      0.385      0.700    -361.194     536.455\n",
      "floor              -201.5880   1039.813     -0.194      0.847   -2254.197    1851.021\n",
      "rooms              1.891e+04   3885.547      4.867      0.000    1.12e+04    2.66e+04\n",
      "toilets            3.588e+04   6465.602      5.549      0.000    2.31e+04    4.86e+04\n",
      "garage              2.62e+04   5607.819      4.673      0.000    1.51e+04    3.73e+04\n",
      "elevator           2.771e+04   7149.122      3.876      0.000    1.36e+04    4.18e+04\n",
      "tras               1.268e+04   5680.660      2.233      0.027    1471.117    2.39e+04\n",
      "zone_Z21           9.272e+04   1.78e+04      5.214      0.000    5.76e+04    1.28e+05\n",
      "zone_Z31           8.596e+04   1.83e+04      4.703      0.000    4.99e+04    1.22e+05\n",
      "zone_Z32           2.937e+04   1.69e+04      1.738      0.084   -3979.688    6.27e+04\n",
      "zone_Z34           5358.9965   2.11e+04      0.254      0.800   -3.63e+04     4.7e+04\n",
      "zone_Z35           5.191e+04   1.95e+04      2.664      0.008    1.34e+04    9.04e+04\n",
      "zone_Z36           2.246e+04   1.72e+04      1.304      0.194   -1.15e+04    5.65e+04\n",
      "zone_Z37           7.483e+04   1.75e+04      4.280      0.000    4.03e+04    1.09e+05\n",
      "zone_Z38           2.024e+04   2.13e+04      0.949      0.344   -2.19e+04    6.24e+04\n",
      "zone_Z41           3.336e+04   1.69e+04      1.979      0.049      90.735    6.66e+04\n",
      "zone_Z42           9.474e+04   2.06e+04      4.601      0.000    5.41e+04    1.35e+05\n",
      "zone_Z43           2.511e+04   2.05e+04      1.224      0.223   -1.54e+04    6.56e+04\n",
      "zone_Z44           1.836e+04   2.01e+04      0.916      0.361   -2.12e+04     5.8e+04\n",
      "zone_Z45            123.3025   1.78e+04      0.007      0.994   -3.49e+04    3.52e+04\n",
      "zone_Z46          -4496.5831   1.93e+04     -0.233      0.816   -4.26e+04    3.36e+04\n",
      "zone_Z47          -2.783e+04   1.92e+04     -1.450      0.149   -6.57e+04    1.01e+04\n",
      "zone_Z48           2.284e+04   1.89e+04      1.207      0.229   -1.45e+04    6.02e+04\n",
      "zone_Z49           1.736e+04   2.01e+04      0.863      0.389   -2.23e+04    5.71e+04\n",
      "zone_Z52          -9411.8418   1.83e+04     -0.514      0.608   -4.56e+04    2.68e+04\n",
      "zone_Z53           2110.8593   1.81e+04      0.117      0.907   -3.36e+04    3.79e+04\n",
      "zone_Z56            1.55e+04   2.04e+04      0.758      0.449   -2.49e+04    5.59e+04\n",
      "zone_Z61           6549.2096   1.66e+04      0.394      0.694   -2.62e+04    3.93e+04\n",
      "zone_Z62          -3772.2004   1.73e+04     -0.218      0.827   -3.79e+04    3.03e+04\n",
      "category_2B        6241.6664   1.79e+04      0.349      0.727    -2.9e+04    4.15e+04\n",
      "category_3A       -2.397e+04   1.75e+04     -1.369      0.173   -5.85e+04    1.06e+04\n",
      "category_3B       -2.863e+04   1.79e+04     -1.598      0.112    -6.4e+04    6728.304\n",
      "category_4A       -2.656e+04   1.88e+04     -1.416      0.159   -6.36e+04    1.05e+04\n",
      "category_4B       -4.586e+04   1.99e+04     -2.307      0.022   -8.51e+04   -6622.940\n",
      "category_5A       -6.841e+04   3.16e+04     -2.166      0.032   -1.31e+05   -6062.085\n",
      "out_E25            2.763e+04   1.82e+04      1.518      0.131   -8303.200    6.36e+04\n",
      "out_E50           -6005.6866   4902.558     -1.225      0.222   -1.57e+04    3672.044\n",
      "out_E75            6984.3193   1.28e+04      0.548      0.585   -1.82e+04    3.22e+04\n",
      "conservation_B    -8203.0640   8310.346     -0.987      0.325   -2.46e+04    8201.697\n",
      "conservation_C    -4518.7234   7071.814     -0.639      0.524   -1.85e+04    9441.156\n",
      "streetcategory_S3  9550.0856   7202.292      1.326      0.187   -4667.359    2.38e+04\n",
      "streetcategory_S4  1.118e+04   7725.573      1.447      0.150   -4072.338    2.64e+04\n",
      "streetcategory_S5  4910.2998   1.28e+04      0.384      0.701   -2.03e+04    3.01e+04\n",
      "heating_3A        -1.029e+04   1.53e+04     -0.672      0.503   -4.05e+04       2e+04\n",
      "heating_3B         4447.0102   1.92e+04      0.231      0.817   -3.35e+04    4.24e+04\n",
      "heating_4A         4321.5682   1.62e+04      0.267      0.790   -2.77e+04    3.63e+04\n",
      "==============================================================================\n",
      "Omnibus:                       18.989   Durbin-Watson:                   2.105\n",
      "Prob(Omnibus):                  0.000   Jarque-Bera (JB):               32.264\n",
      "Skew:                           0.487   Prob(JB):                     9.86e-08\n",
      "Kurtosis:                       4.613   Cond. No.                     2.70e+11\n",
      "==============================================================================\n",
      "\n",
      "Warnings:\n",
      "[1] Standard Errors assume that the covariance matrix of the errors is correctly specified.\n",
      "[2] The condition number is large, 2.7e+11. This might indicate that there are\n",
      "strong multicollinearity or other numerical problems.\n"
     ]
    },
    {
     "name": "stderr",
     "output_type": "stream",
     "text": [
      "C:\\ProgramData\\Anaconda3\\lib\\site-packages\\numpy\\core\\fromnumeric.py:2389: FutureWarning: Method .ptp is deprecated and will be removed in a future version. Use numpy.ptp instead.\n",
      "  return ptp(axis=axis, out=out, **kwargs)\n"
     ]
    }
   ],
   "source": [
    "# We use all variables \n",
    "data2=pd.get_dummies(data,drop_first=True)\n",
    "X=data2.iloc[:,1:]\n",
    "Y=data2.iloc[:,0]\n",
    "X = sm.add_constant(X) # adding a constant\n",
    "\n",
    "model = sm.OLS(Y, X).fit()\n",
    "predictions = model.predict(X) \n",
    "\n",
    "print_model = model.summary()\n",
    "print(print_model)"
   ]
  },
  {
   "cell_type": "markdown",
   "metadata": {},
   "source": [
    "<br><br>\n",
    "Because there are many columns, it's kinda hard to see the result of this model. Now we dropped columns that has p-value more than 0.55. (P-value here, means how much statisticaly significant the columns to has effect on *totalprice*). more than significance level 0.05 means that statistically, that columns is not significance has effect on y (or totalprice). Notes also that we still need to see adj r-squared (higher is better) and AIC (lower is better) between models to see which model is better"
   ]
  },
  {
   "cell_type": "code",
   "execution_count": 122,
   "metadata": {},
   "outputs": [
    {
     "name": "stdout",
     "output_type": "stream",
     "text": [
      "Rsquared is 0.8750283472398994, Adj Rsquared 0.8526149529948814, and AIC 5092.020788283021\n",
      "Rsquared is 0.8748302322736962, Adj Rsquared 0.8531792454237409, and AIC 5090.3661055166\n"
     ]
    }
   ],
   "source": [
    "p_val=model.pvalues\n",
    "keep=p_val[p_val<0.55]\n",
    "X_1=X[keep.index]\n",
    "X_1.head()\n",
    "\n",
    "model = sm.OLS(Y, X_1).fit()\n",
    "predictions = model.predict(X_1) \n",
    "\n",
    "print('Rsquared is {}, Adj Rsquared {}, and AIC {}'.format(str(model.rsquared),str(model.rsquared_adj),str(model.aic)))\n",
    "\n",
    "p_val=model.pvalues\n",
    "keep=p_val[p_val<0.55]\n",
    "X_1=X[keep.index]\n",
    "X_1.head()\n",
    "\n",
    "model = sm.OLS(Y, X_1).fit()\n",
    "predictions = model.predict(X_1) \n",
    "\n",
    "print('Rsquared is {}, Adj Rsquared {}, and AIC {}'.format(str(model.rsquared),str(model.rsquared_adj),str(model.aic)))"
   ]
  },
  {
   "cell_type": "markdown",
   "metadata": {},
   "source": [
    "<br><br>\n",
    "After running above variables, we get better results. AIC is lower and Rsquared and Adjrquared is higher. "
   ]
  },
  {
   "cell_type": "code",
   "execution_count": 123,
   "metadata": {},
   "outputs": [
    {
     "data": {
      "text/html": [
       "<table class=\"simpletable\">\n",
       "<caption>OLS Regression Results</caption>\n",
       "<tr>\n",
       "  <th>Dep. Variable:</th>       <td>totalprice</td>    <th>  R-squared:         </th> <td>   0.875</td>\n",
       "</tr>\n",
       "<tr>\n",
       "  <th>Model:</th>                   <td>OLS</td>       <th>  Adj. R-squared:    </th> <td>   0.853</td>\n",
       "</tr>\n",
       "<tr>\n",
       "  <th>Method:</th>             <td>Least Squares</td>  <th>  F-statistic:       </th> <td>   40.41</td>\n",
       "</tr>\n",
       "<tr>\n",
       "  <th>Date:</th>             <td>Thu, 10 Oct 2019</td> <th>  Prob (F-statistic):</th> <td>3.69e-67</td>\n",
       "</tr>\n",
       "<tr>\n",
       "  <th>Time:</th>                 <td>17:09:12</td>     <th>  Log-Likelihood:    </th> <td> -2512.2</td>\n",
       "</tr>\n",
       "<tr>\n",
       "  <th>No. Observations:</th>      <td>   218</td>      <th>  AIC:               </th> <td>   5090.</td>\n",
       "</tr>\n",
       "<tr>\n",
       "  <th>Df Residuals:</th>          <td>   185</td>      <th>  BIC:               </th> <td>   5202.</td>\n",
       "</tr>\n",
       "<tr>\n",
       "  <th>Df Model:</th>              <td>    32</td>      <th>                     </th>     <td> </td>   \n",
       "</tr>\n",
       "<tr>\n",
       "  <th>Covariance Type:</th>      <td>nonrobust</td>    <th>                     </th>     <td> </td>   \n",
       "</tr>\n",
       "</table>\n",
       "<table class=\"simpletable\">\n",
       "<tr>\n",
       "          <td></td>             <th>coef</th>     <th>std err</th>      <th>t</th>      <th>P>|t|</th>  <th>[0.025</th>    <th>0.975]</th>  \n",
       "</tr>\n",
       "<tr>\n",
       "  <th>const</th>             <td> 1.234e+05</td> <td>  2.2e+04</td> <td>    5.611</td> <td> 0.000</td> <td>    8e+04</td> <td> 1.67e+05</td>\n",
       "</tr>\n",
       "<tr>\n",
       "  <th>area</th>              <td>-1.402e-06</td> <td>  6.2e-07</td> <td>   -2.261</td> <td> 0.025</td> <td>-2.62e-06</td> <td>-1.78e-07</td>\n",
       "</tr>\n",
       "<tr>\n",
       "  <th>rooms</th>             <td> 1.867e+04</td> <td> 3608.245</td> <td>    5.173</td> <td> 0.000</td> <td> 1.15e+04</td> <td> 2.58e+04</td>\n",
       "</tr>\n",
       "<tr>\n",
       "  <th>toilets</th>           <td> 3.428e+04</td> <td> 5751.512</td> <td>    5.961</td> <td> 0.000</td> <td> 2.29e+04</td> <td> 4.56e+04</td>\n",
       "</tr>\n",
       "<tr>\n",
       "  <th>garage</th>            <td> 2.645e+04</td> <td> 5246.862</td> <td>    5.041</td> <td> 0.000</td> <td> 1.61e+04</td> <td> 3.68e+04</td>\n",
       "</tr>\n",
       "<tr>\n",
       "  <th>elevator</th>          <td> 2.737e+04</td> <td> 6007.809</td> <td>    4.556</td> <td> 0.000</td> <td> 1.55e+04</td> <td> 3.92e+04</td>\n",
       "</tr>\n",
       "<tr>\n",
       "  <th>tras</th>              <td> 1.352e+04</td> <td> 5124.135</td> <td>    2.638</td> <td> 0.009</td> <td> 3407.810</td> <td> 2.36e+04</td>\n",
       "</tr>\n",
       "<tr>\n",
       "  <th>zone_Z21</th>          <td> 9.436e+04</td> <td> 9545.503</td> <td>    9.885</td> <td> 0.000</td> <td> 7.55e+04</td> <td> 1.13e+05</td>\n",
       "</tr>\n",
       "<tr>\n",
       "  <th>zone_Z31</th>          <td> 8.947e+04</td> <td> 1.08e+04</td> <td>    8.285</td> <td> 0.000</td> <td> 6.82e+04</td> <td> 1.11e+05</td>\n",
       "</tr>\n",
       "<tr>\n",
       "  <th>zone_Z32</th>          <td> 3.073e+04</td> <td> 9099.203</td> <td>    3.377</td> <td> 0.001</td> <td> 1.28e+04</td> <td> 4.87e+04</td>\n",
       "</tr>\n",
       "<tr>\n",
       "  <th>zone_Z35</th>          <td> 5.207e+04</td> <td> 1.49e+04</td> <td>    3.500</td> <td> 0.001</td> <td> 2.27e+04</td> <td> 8.14e+04</td>\n",
       "</tr>\n",
       "<tr>\n",
       "  <th>zone_Z36</th>          <td> 2.244e+04</td> <td> 9802.525</td> <td>    2.289</td> <td> 0.023</td> <td> 3098.230</td> <td> 4.18e+04</td>\n",
       "</tr>\n",
       "<tr>\n",
       "  <th>zone_Z37</th>          <td> 7.836e+04</td> <td> 9678.668</td> <td>    8.096</td> <td> 0.000</td> <td> 5.93e+04</td> <td> 9.75e+04</td>\n",
       "</tr>\n",
       "<tr>\n",
       "  <th>zone_Z38</th>          <td> 2.141e+04</td> <td> 1.39e+04</td> <td>    1.538</td> <td> 0.126</td> <td>-6049.878</td> <td> 4.89e+04</td>\n",
       "</tr>\n",
       "<tr>\n",
       "  <th>zone_Z41</th>          <td>  3.42e+04</td> <td> 8125.477</td> <td>    4.209</td> <td> 0.000</td> <td> 1.82e+04</td> <td> 5.02e+04</td>\n",
       "</tr>\n",
       "<tr>\n",
       "  <th>zone_Z42</th>          <td> 9.806e+04</td> <td> 1.29e+04</td> <td>    7.625</td> <td> 0.000</td> <td> 7.27e+04</td> <td> 1.23e+05</td>\n",
       "</tr>\n",
       "<tr>\n",
       "  <th>zone_Z43</th>          <td> 2.914e+04</td> <td> 1.31e+04</td> <td>    2.219</td> <td> 0.028</td> <td> 3230.409</td> <td>  5.5e+04</td>\n",
       "</tr>\n",
       "<tr>\n",
       "  <th>zone_Z44</th>          <td> 1.936e+04</td> <td> 1.36e+04</td> <td>    1.422</td> <td> 0.157</td> <td>-7494.127</td> <td> 4.62e+04</td>\n",
       "</tr>\n",
       "<tr>\n",
       "  <th>zone_Z47</th>          <td>-2.479e+04</td> <td> 9398.744</td> <td>   -2.638</td> <td> 0.009</td> <td>-4.33e+04</td> <td>-6251.811</td>\n",
       "</tr>\n",
       "<tr>\n",
       "  <th>zone_Z48</th>          <td> 2.382e+04</td> <td> 1.17e+04</td> <td>    2.038</td> <td> 0.043</td> <td>  761.425</td> <td> 4.69e+04</td>\n",
       "</tr>\n",
       "<tr>\n",
       "  <th>zone_Z49</th>          <td> 1.877e+04</td> <td> 1.26e+04</td> <td>    1.487</td> <td> 0.139</td> <td>-6133.805</td> <td> 4.37e+04</td>\n",
       "</tr>\n",
       "<tr>\n",
       "  <th>zone_Z56</th>          <td> 1.563e+04</td> <td> 1.12e+04</td> <td>    1.400</td> <td> 0.163</td> <td>-6397.286</td> <td> 3.77e+04</td>\n",
       "</tr>\n",
       "<tr>\n",
       "  <th>category_3A</th>       <td> -3.06e+04</td> <td> 7986.743</td> <td>   -3.831</td> <td> 0.000</td> <td>-4.64e+04</td> <td>-1.48e+04</td>\n",
       "</tr>\n",
       "<tr>\n",
       "  <th>category_3B</th>       <td>-3.508e+04</td> <td> 8353.863</td> <td>   -4.199</td> <td> 0.000</td> <td>-5.16e+04</td> <td>-1.86e+04</td>\n",
       "</tr>\n",
       "<tr>\n",
       "  <th>category_4A</th>       <td>-3.306e+04</td> <td> 9688.528</td> <td>   -3.413</td> <td> 0.001</td> <td>-5.22e+04</td> <td> -1.4e+04</td>\n",
       "</tr>\n",
       "<tr>\n",
       "  <th>category_4B</th>       <td>-5.389e+04</td> <td> 1.05e+04</td> <td>   -5.115</td> <td> 0.000</td> <td>-7.47e+04</td> <td>-3.31e+04</td>\n",
       "</tr>\n",
       "<tr>\n",
       "  <th>category_5A</th>       <td>-7.868e+04</td> <td> 1.96e+04</td> <td>   -4.008</td> <td> 0.000</td> <td>-1.17e+05</td> <td>   -4e+04</td>\n",
       "</tr>\n",
       "<tr>\n",
       "  <th>out_E25</th>           <td> 2.673e+04</td> <td> 1.69e+04</td> <td>    1.580</td> <td> 0.116</td> <td>-6649.414</td> <td> 6.01e+04</td>\n",
       "</tr>\n",
       "<tr>\n",
       "  <th>out_E50</th>           <td>-6890.1672</td> <td> 4251.927</td> <td>   -1.620</td> <td> 0.107</td> <td>-1.53e+04</td> <td> 1498.332</td>\n",
       "</tr>\n",
       "<tr>\n",
       "  <th>conservation_B</th>    <td>-8474.9133</td> <td> 7146.735</td> <td>   -1.186</td> <td> 0.237</td> <td>-2.26e+04</td> <td> 5624.666</td>\n",
       "</tr>\n",
       "<tr>\n",
       "  <th>streetcategory_S3</th> <td> 9102.2770</td> <td> 5890.220</td> <td>    1.545</td> <td> 0.124</td> <td>-2518.361</td> <td> 2.07e+04</td>\n",
       "</tr>\n",
       "<tr>\n",
       "  <th>streetcategory_S4</th> <td> 1.271e+04</td> <td> 6087.608</td> <td>    2.089</td> <td> 0.038</td> <td>  704.818</td> <td> 2.47e+04</td>\n",
       "</tr>\n",
       "<tr>\n",
       "  <th>heating_3A</th>        <td>-1.308e+04</td> <td> 4833.353</td> <td>   -2.707</td> <td> 0.007</td> <td>-2.26e+04</td> <td>-3547.170</td>\n",
       "</tr>\n",
       "</table>\n",
       "<table class=\"simpletable\">\n",
       "<tr>\n",
       "  <th>Omnibus:</th>       <td>22.175</td> <th>  Durbin-Watson:     </th> <td>   2.119</td>\n",
       "</tr>\n",
       "<tr>\n",
       "  <th>Prob(Omnibus):</th> <td> 0.000</td> <th>  Jarque-Bera (JB):  </th> <td>  43.368</td>\n",
       "</tr>\n",
       "<tr>\n",
       "  <th>Skew:</th>          <td> 0.512</td> <th>  Prob(JB):          </th> <td>3.83e-10</td>\n",
       "</tr>\n",
       "<tr>\n",
       "  <th>Kurtosis:</th>      <td> 4.930</td> <th>  Cond. No.          </th> <td>9.91e+10</td>\n",
       "</tr>\n",
       "</table><br/><br/>Warnings:<br/>[1] Standard Errors assume that the covariance matrix of the errors is correctly specified.<br/>[2] The condition number is large, 9.91e+10. This might indicate that there are<br/>strong multicollinearity or other numerical problems."
      ],
      "text/plain": [
       "<class 'statsmodels.iolib.summary.Summary'>\n",
       "\"\"\"\n",
       "                            OLS Regression Results                            \n",
       "==============================================================================\n",
       "Dep. Variable:             totalprice   R-squared:                       0.875\n",
       "Model:                            OLS   Adj. R-squared:                  0.853\n",
       "Method:                 Least Squares   F-statistic:                     40.41\n",
       "Date:                Thu, 10 Oct 2019   Prob (F-statistic):           3.69e-67\n",
       "Time:                        17:09:12   Log-Likelihood:                -2512.2\n",
       "No. Observations:                 218   AIC:                             5090.\n",
       "Df Residuals:                     185   BIC:                             5202.\n",
       "Df Model:                          32                                         \n",
       "Covariance Type:            nonrobust                                         \n",
       "=====================================================================================\n",
       "                        coef    std err          t      P>|t|      [0.025      0.975]\n",
       "-------------------------------------------------------------------------------------\n",
       "const              1.234e+05    2.2e+04      5.611      0.000       8e+04    1.67e+05\n",
       "area              -1.402e-06    6.2e-07     -2.261      0.025   -2.62e-06   -1.78e-07\n",
       "rooms              1.867e+04   3608.245      5.173      0.000    1.15e+04    2.58e+04\n",
       "toilets            3.428e+04   5751.512      5.961      0.000    2.29e+04    4.56e+04\n",
       "garage             2.645e+04   5246.862      5.041      0.000    1.61e+04    3.68e+04\n",
       "elevator           2.737e+04   6007.809      4.556      0.000    1.55e+04    3.92e+04\n",
       "tras               1.352e+04   5124.135      2.638      0.009    3407.810    2.36e+04\n",
       "zone_Z21           9.436e+04   9545.503      9.885      0.000    7.55e+04    1.13e+05\n",
       "zone_Z31           8.947e+04   1.08e+04      8.285      0.000    6.82e+04    1.11e+05\n",
       "zone_Z32           3.073e+04   9099.203      3.377      0.001    1.28e+04    4.87e+04\n",
       "zone_Z35           5.207e+04   1.49e+04      3.500      0.001    2.27e+04    8.14e+04\n",
       "zone_Z36           2.244e+04   9802.525      2.289      0.023    3098.230    4.18e+04\n",
       "zone_Z37           7.836e+04   9678.668      8.096      0.000    5.93e+04    9.75e+04\n",
       "zone_Z38           2.141e+04   1.39e+04      1.538      0.126   -6049.878    4.89e+04\n",
       "zone_Z41            3.42e+04   8125.477      4.209      0.000    1.82e+04    5.02e+04\n",
       "zone_Z42           9.806e+04   1.29e+04      7.625      0.000    7.27e+04    1.23e+05\n",
       "zone_Z43           2.914e+04   1.31e+04      2.219      0.028    3230.409     5.5e+04\n",
       "zone_Z44           1.936e+04   1.36e+04      1.422      0.157   -7494.127    4.62e+04\n",
       "zone_Z47          -2.479e+04   9398.744     -2.638      0.009   -4.33e+04   -6251.811\n",
       "zone_Z48           2.382e+04   1.17e+04      2.038      0.043     761.425    4.69e+04\n",
       "zone_Z49           1.877e+04   1.26e+04      1.487      0.139   -6133.805    4.37e+04\n",
       "zone_Z56           1.563e+04   1.12e+04      1.400      0.163   -6397.286    3.77e+04\n",
       "category_3A        -3.06e+04   7986.743     -3.831      0.000   -4.64e+04   -1.48e+04\n",
       "category_3B       -3.508e+04   8353.863     -4.199      0.000   -5.16e+04   -1.86e+04\n",
       "category_4A       -3.306e+04   9688.528     -3.413      0.001   -5.22e+04    -1.4e+04\n",
       "category_4B       -5.389e+04   1.05e+04     -5.115      0.000   -7.47e+04   -3.31e+04\n",
       "category_5A       -7.868e+04   1.96e+04     -4.008      0.000   -1.17e+05      -4e+04\n",
       "out_E25            2.673e+04   1.69e+04      1.580      0.116   -6649.414    6.01e+04\n",
       "out_E50           -6890.1672   4251.927     -1.620      0.107   -1.53e+04    1498.332\n",
       "conservation_B    -8474.9133   7146.735     -1.186      0.237   -2.26e+04    5624.666\n",
       "streetcategory_S3  9102.2770   5890.220      1.545      0.124   -2518.361    2.07e+04\n",
       "streetcategory_S4  1.271e+04   6087.608      2.089      0.038     704.818    2.47e+04\n",
       "heating_3A        -1.308e+04   4833.353     -2.707      0.007   -2.26e+04   -3547.170\n",
       "==============================================================================\n",
       "Omnibus:                       22.175   Durbin-Watson:                   2.119\n",
       "Prob(Omnibus):                  0.000   Jarque-Bera (JB):               43.368\n",
       "Skew:                           0.512   Prob(JB):                     3.83e-10\n",
       "Kurtosis:                       4.930   Cond. No.                     9.91e+10\n",
       "==============================================================================\n",
       "\n",
       "Warnings:\n",
       "[1] Standard Errors assume that the covariance matrix of the errors is correctly specified.\n",
       "[2] The condition number is large, 9.91e+10. This might indicate that there are\n",
       "strong multicollinearity or other numerical problems.\n",
       "\"\"\""
      ]
     },
     "execution_count": 123,
     "metadata": {},
     "output_type": "execute_result"
    }
   ],
   "source": [
    "model.summary()"
   ]
  },
  {
   "cell_type": "code",
   "execution_count": 125,
   "metadata": {},
   "outputs": [
    {
     "data": {
      "text/plain": [
       "Index(['area', 'rooms', 'toilets', 'garage', 'elevator', 'tras', 'zone_Z21',\n",
       "       'zone_Z31', 'zone_Z32', 'zone_Z35', 'zone_Z36', 'zone_Z37', 'zone_Z38',\n",
       "       'zone_Z41', 'zone_Z42', 'zone_Z43', 'zone_Z44', 'zone_Z47', 'zone_Z48',\n",
       "       'zone_Z49', 'zone_Z56', 'category_3A', 'category_3B', 'category_4A',\n",
       "       'category_4B', 'category_5A', 'out_E25', 'out_E50', 'conservation_B',\n",
       "       'streetcategory_S3', 'streetcategory_S4', 'heating_3A'],\n",
       "      dtype='object')"
      ]
     },
     "execution_count": 125,
     "metadata": {},
     "output_type": "execute_result"
    }
   ],
   "source": [
    "X_1.columns[1:]"
   ]
  },
  {
   "cell_type": "markdown",
   "metadata": {},
   "source": [
    "<br><br>\n",
    "We see that above columns is variable that is important and used in our model. For instances, Tony should see area, rooms, toilets, etc. But for example, we see that only conservation_B is significance. That means, when tony want to predict new apartment, he should see if the apartment in conservation_B or not (he doesn't need to care if the conservation is A,or C).\n",
    "<br>\n",
    "Using this columns, Tony could specify and focused on more important columns.\n",
    "<br>\n",
    "Now we want to see residual or error in our data"
   ]
  },
  {
   "cell_type": "code",
   "execution_count": 126,
   "metadata": {},
   "outputs": [
    {
     "name": "stdout",
     "output_type": "stream",
     "text": [
      "RMSE :  24461.040279565495\n"
     ]
    },
    {
     "data": {
      "text/html": [
       "<div>\n",
       "<style scoped>\n",
       "    .dataframe tbody tr th:only-of-type {\n",
       "        vertical-align: middle;\n",
       "    }\n",
       "\n",
       "    .dataframe tbody tr th {\n",
       "        vertical-align: top;\n",
       "    }\n",
       "\n",
       "    .dataframe thead th {\n",
       "        text-align: right;\n",
       "    }\n",
       "</style>\n",
       "<table border=\"1\" class=\"dataframe\">\n",
       "  <thead>\n",
       "    <tr style=\"text-align: right;\">\n",
       "      <th></th>\n",
       "      <th>totalprice</th>\n",
       "      <th>predict</th>\n",
       "      <th>error</th>\n",
       "    </tr>\n",
       "  </thead>\n",
       "  <tbody>\n",
       "    <tr>\n",
       "      <th>0</th>\n",
       "      <td>228000.0</td>\n",
       "      <td>209921.337953</td>\n",
       "      <td>18078.662047</td>\n",
       "    </tr>\n",
       "    <tr>\n",
       "      <th>1</th>\n",
       "      <td>409000.0</td>\n",
       "      <td>398691.425213</td>\n",
       "      <td>10308.574787</td>\n",
       "    </tr>\n",
       "    <tr>\n",
       "      <th>2</th>\n",
       "      <td>200000.0</td>\n",
       "      <td>249599.957478</td>\n",
       "      <td>-49599.957478</td>\n",
       "    </tr>\n",
       "    <tr>\n",
       "      <th>3</th>\n",
       "      <td>180000.0</td>\n",
       "      <td>184204.414362</td>\n",
       "      <td>-4204.414362</td>\n",
       "    </tr>\n",
       "    <tr>\n",
       "      <th>4</th>\n",
       "      <td>443600.0</td>\n",
       "      <td>433015.833716</td>\n",
       "      <td>10584.166284</td>\n",
       "    </tr>\n",
       "    <tr>\n",
       "      <th>5</th>\n",
       "      <td>173000.0</td>\n",
       "      <td>192520.141593</td>\n",
       "      <td>-19520.141593</td>\n",
       "    </tr>\n",
       "    <tr>\n",
       "      <th>6</th>\n",
       "      <td>245000.0</td>\n",
       "      <td>209217.798748</td>\n",
       "      <td>35782.201252</td>\n",
       "    </tr>\n",
       "    <tr>\n",
       "      <th>7</th>\n",
       "      <td>210000.0</td>\n",
       "      <td>221772.883727</td>\n",
       "      <td>-11772.883727</td>\n",
       "    </tr>\n",
       "    <tr>\n",
       "      <th>8</th>\n",
       "      <td>188982.2</td>\n",
       "      <td>201625.589653</td>\n",
       "      <td>-12643.389653</td>\n",
       "    </tr>\n",
       "    <tr>\n",
       "      <th>9</th>\n",
       "      <td>193000.0</td>\n",
       "      <td>195197.834018</td>\n",
       "      <td>-2197.834018</td>\n",
       "    </tr>\n",
       "    <tr>\n",
       "      <th>10</th>\n",
       "      <td>333000.0</td>\n",
       "      <td>360831.059894</td>\n",
       "      <td>-27831.059894</td>\n",
       "    </tr>\n",
       "    <tr>\n",
       "      <th>11</th>\n",
       "      <td>224000.0</td>\n",
       "      <td>221173.721341</td>\n",
       "      <td>2826.278659</td>\n",
       "    </tr>\n",
       "    <tr>\n",
       "      <th>12</th>\n",
       "      <td>560000.0</td>\n",
       "      <td>476148.470662</td>\n",
       "      <td>83851.529338</td>\n",
       "    </tr>\n",
       "    <tr>\n",
       "      <th>13</th>\n",
       "      <td>214400.0</td>\n",
       "      <td>250368.522633</td>\n",
       "      <td>-35968.522633</td>\n",
       "    </tr>\n",
       "    <tr>\n",
       "      <th>14</th>\n",
       "      <td>268000.0</td>\n",
       "      <td>244327.888733</td>\n",
       "      <td>23672.111267</td>\n",
       "    </tr>\n",
       "    <tr>\n",
       "      <th>15</th>\n",
       "      <td>230000.0</td>\n",
       "      <td>246566.726263</td>\n",
       "      <td>-16566.726263</td>\n",
       "    </tr>\n",
       "    <tr>\n",
       "      <th>16</th>\n",
       "      <td>207500.0</td>\n",
       "      <td>221102.932791</td>\n",
       "      <td>-13602.932791</td>\n",
       "    </tr>\n",
       "    <tr>\n",
       "      <th>17</th>\n",
       "      <td>254000.0</td>\n",
       "      <td>244910.941860</td>\n",
       "      <td>9089.058140</td>\n",
       "    </tr>\n",
       "    <tr>\n",
       "      <th>18</th>\n",
       "      <td>221000.0</td>\n",
       "      <td>234227.097928</td>\n",
       "      <td>-13227.097928</td>\n",
       "    </tr>\n",
       "    <tr>\n",
       "      <th>19</th>\n",
       "      <td>360500.0</td>\n",
       "      <td>358709.822576</td>\n",
       "      <td>1790.177424</td>\n",
       "    </tr>\n",
       "  </tbody>\n",
       "</table>\n",
       "</div>"
      ],
      "text/plain": [
       "    totalprice        predict         error\n",
       "0     228000.0  209921.337953  18078.662047\n",
       "1     409000.0  398691.425213  10308.574787\n",
       "2     200000.0  249599.957478 -49599.957478\n",
       "3     180000.0  184204.414362  -4204.414362\n",
       "4     443600.0  433015.833716  10584.166284\n",
       "5     173000.0  192520.141593 -19520.141593\n",
       "6     245000.0  209217.798748  35782.201252\n",
       "7     210000.0  221772.883727 -11772.883727\n",
       "8     188982.2  201625.589653 -12643.389653\n",
       "9     193000.0  195197.834018  -2197.834018\n",
       "10    333000.0  360831.059894 -27831.059894\n",
       "11    224000.0  221173.721341   2826.278659\n",
       "12    560000.0  476148.470662  83851.529338\n",
       "13    214400.0  250368.522633 -35968.522633\n",
       "14    268000.0  244327.888733  23672.111267\n",
       "15    230000.0  246566.726263 -16566.726263\n",
       "16    207500.0  221102.932791 -13602.932791\n",
       "17    254000.0  244910.941860   9089.058140\n",
       "18    221000.0  234227.097928 -13227.097928\n",
       "19    360500.0  358709.822576   1790.177424"
      ]
     },
     "execution_count": 126,
     "metadata": {},
     "output_type": "execute_result"
    }
   ],
   "source": [
    "error=model.resid\n",
    "predict=model.fittedvalues\n",
    "compar=pd.DataFrame()\n",
    "compar['totalprice']=data['totalprice']\n",
    "compar['predict']=predict\n",
    "compar['error']=error\n",
    "mse=mean_squared_error(data['totalprice'],predict)\n",
    "print('RMSE : ',np.sqrt(mse))\n",
    "compar.head(20)"
   ]
  },
  {
   "cell_type": "code",
   "execution_count": 128,
   "metadata": {},
   "outputs": [
    {
     "data": {
      "text/plain": [
       "Index(['area', 'rooms', 'toilets', 'garage', 'elevator', 'tras', 'zone_Z21',\n",
       "       'zone_Z31', 'zone_Z32', 'zone_Z35', 'zone_Z36', 'zone_Z37', 'zone_Z38',\n",
       "       'zone_Z41', 'zone_Z42', 'zone_Z43', 'zone_Z44', 'zone_Z47', 'zone_Z48',\n",
       "       'zone_Z49', 'zone_Z56', 'category_3A', 'category_3B', 'category_4A',\n",
       "       'category_4B', 'category_5A', 'out_E25', 'out_E50', 'conservation_B',\n",
       "       'streetcategory_S3', 'streetcategory_S4', 'heating_3A'],\n",
       "      dtype='object')"
      ]
     },
     "execution_count": 128,
     "metadata": {},
     "output_type": "execute_result"
    }
   ],
   "source": [
    "X_1.columns[1:]"
   ]
  },
  {
   "cell_type": "markdown",
   "metadata": {},
   "source": [
    "### CONCLUSION\n",
    "<br><br>\n",
    "Using our model, we see above our prediction and RMSE of our model. we see that RMSE 24461 means on average we have error between prediction and real obs (RMSE) 24461. Also with ADj Rsquared >0.85 means that our model quiet good to predict total price. Also using above columns, Tony only need to see above columns information to predict the price of apartment using our regression model."
   ]
  },
  {
   "cell_type": "markdown",
   "metadata": {},
   "source": [
    "<br><br>\n",
    "Notes that, we should use train test split our data but as there are time factor we do not use that and only following the instruction given by above"
   ]
  },
  {
   "cell_type": "markdown",
   "metadata": {},
   "source": [
    "# Optional"
   ]
  },
  {
   "cell_type": "markdown",
   "metadata": {},
   "source": [
    "we use the same as before, but using train test split instead"
   ]
  },
  {
   "cell_type": "code",
   "execution_count": 156,
   "metadata": {},
   "outputs": [
    {
     "name": "stdout",
     "output_type": "stream",
     "text": [
      "                            OLS Regression Results                            \n",
      "==============================================================================\n",
      "Dep. Variable:             totalprice   R-squared:                       0.883\n",
      "Model:                            OLS   Adj. R-squared:                  0.828\n",
      "Method:                 Least Squares   F-statistic:                     15.81\n",
      "Date:                Thu, 10 Oct 2019   Prob (F-statistic):           2.58e-29\n",
      "Time:                        17:26:30   Log-Likelihood:                -1667.1\n",
      "No. Observations:                 146   AIC:                             3430.\n",
      "Df Residuals:                      98   BIC:                             3573.\n",
      "Df Model:                          47                                         \n",
      "Covariance Type:            nonrobust                                         \n",
      "=====================================================================================\n",
      "                        coef    std err          t      P>|t|      [0.025      0.975]\n",
      "-------------------------------------------------------------------------------------\n",
      "const              8.111e+04   5.06e+04      1.604      0.112   -1.92e+04    1.81e+05\n",
      "area              -1.139e-06   8.15e-07     -1.397      0.166   -2.76e-06    4.79e-07\n",
      "age                 171.0213    296.312      0.577      0.565    -417.000     759.043\n",
      "floor                73.7859   1330.674      0.055      0.956   -2566.894    2714.465\n",
      "rooms              1.746e+04   4687.818      3.725      0.000    8159.130    2.68e+04\n",
      "toilets            3.905e+04   7709.453      5.065      0.000    2.37e+04    5.43e+04\n",
      "garage             2.068e+04   6915.094      2.991      0.004    6957.119    3.44e+04\n",
      "elevator           2.782e+04   8951.766      3.107      0.002    1.01e+04    4.56e+04\n",
      "tras               1.327e+04   7108.829      1.866      0.065    -839.121    2.74e+04\n",
      "zone_Z21           9.912e+04    2.4e+04      4.121      0.000    5.14e+04    1.47e+05\n",
      "zone_Z31           8.543e+04   2.54e+04      3.367      0.001    3.51e+04    1.36e+05\n",
      "zone_Z32           2.574e+04   2.33e+04      1.106      0.272   -2.05e+04    7.19e+04\n",
      "zone_Z34           1.347e+04   3.67e+04      0.367      0.715   -5.94e+04    8.63e+04\n",
      "zone_Z35           5.492e+04    2.5e+04      2.197      0.030    5305.598    1.05e+05\n",
      "zone_Z36           2.382e+04   2.39e+04      0.997      0.321   -2.36e+04    7.13e+04\n",
      "zone_Z37           7.441e+04   2.38e+04      3.130      0.002    2.72e+04    1.22e+05\n",
      "zone_Z38           1.607e+04   2.68e+04      0.600      0.550    -3.7e+04    6.92e+04\n",
      "zone_Z41            2.99e+04   2.24e+04      1.333      0.186   -1.46e+04    7.44e+04\n",
      "zone_Z42            1.11e+05   2.86e+04      3.883      0.000    5.43e+04    1.68e+05\n",
      "zone_Z43           3.672e+04   2.77e+04      1.328      0.187   -1.82e+04    9.16e+04\n",
      "zone_Z44           2.856e+04   3.05e+04      0.937      0.351   -3.19e+04    8.91e+04\n",
      "zone_Z45          -4154.3697   2.56e+04     -0.162      0.871   -5.49e+04    4.66e+04\n",
      "zone_Z46          -1.098e+04   2.85e+04     -0.385      0.701   -6.76e+04    4.56e+04\n",
      "zone_Z47          -2.991e+04   2.59e+04     -1.153      0.252   -8.14e+04    2.16e+04\n",
      "zone_Z48           2.234e+04   2.57e+04      0.871      0.386   -2.86e+04    7.33e+04\n",
      "zone_Z49           1.446e+04   2.72e+04      0.532      0.596   -3.95e+04    6.84e+04\n",
      "zone_Z52          -1.244e+04   2.52e+04     -0.493      0.623   -6.25e+04    3.76e+04\n",
      "zone_Z53           1770.5926    2.5e+04      0.071      0.944   -4.79e+04    5.15e+04\n",
      "zone_Z56           3.029e+04   2.71e+04      1.117      0.267   -2.35e+04    8.41e+04\n",
      "zone_Z61           5967.9761   2.32e+04      0.257      0.798   -4.01e+04    5.21e+04\n",
      "zone_Z62          -4194.0822   2.37e+04     -0.177      0.860   -5.12e+04    4.28e+04\n",
      "category_2B        2.668e+04   3.44e+04      0.775      0.440   -4.17e+04     9.5e+04\n",
      "category_3A        7882.5425   3.32e+04      0.237      0.813   -5.81e+04    7.39e+04\n",
      "category_3B        8832.3158   3.42e+04      0.258      0.797   -5.91e+04    7.68e+04\n",
      "category_4A        9395.8755   3.46e+04      0.271      0.787   -5.93e+04    7.81e+04\n",
      "category_4B       -1.344e+04   3.57e+04     -0.377      0.707   -8.42e+04    5.73e+04\n",
      "category_5A       -4.029e+04   4.56e+04     -0.883      0.380   -1.31e+05    5.03e+04\n",
      "out_E25            3.187e+04   2.46e+04      1.294      0.199    -1.7e+04    8.07e+04\n",
      "out_E50            -311.8678   6009.246     -0.052      0.959   -1.22e+04    1.16e+04\n",
      "out_E75            1.939e+04   1.89e+04      1.028      0.306    -1.8e+04    5.68e+04\n",
      "conservation_B    -2.056e+04   1.15e+04     -1.788      0.077   -4.34e+04    2264.428\n",
      "conservation_C    -3691.0495   9197.306     -0.401      0.689   -2.19e+04    1.46e+04\n",
      "streetcategory_S3  9200.0165   8478.013      1.085      0.281   -7624.324     2.6e+04\n",
      "streetcategory_S4  6597.1387   9445.594      0.698      0.487   -1.21e+04    2.53e+04\n",
      "streetcategory_S5 -1.041e+04    1.9e+04     -0.548      0.585   -4.81e+04    2.73e+04\n",
      "heating_3A        -1.407e+04   1.77e+04     -0.795      0.429   -4.92e+04    2.11e+04\n",
      "heating_3B        -1.989e+04   2.37e+04     -0.839      0.404    -6.7e+04    2.72e+04\n",
      "heating_4A        -2020.4187   1.94e+04     -0.104      0.917   -4.04e+04    3.64e+04\n",
      "==============================================================================\n",
      "Omnibus:                        9.915   Durbin-Watson:                   1.788\n",
      "Prob(Omnibus):                  0.007   Jarque-Bera (JB):               11.927\n",
      "Skew:                           0.450   Prob(JB):                      0.00257\n",
      "Kurtosis:                       4.073   Cond. No.                     3.22e+11\n",
      "==============================================================================\n",
      "\n",
      "Warnings:\n",
      "[1] Standard Errors assume that the covariance matrix of the errors is correctly specified.\n",
      "[2] The condition number is large, 3.22e+11. This might indicate that there are\n",
      "strong multicollinearity or other numerical problems.\n"
     ]
    },
    {
     "name": "stderr",
     "output_type": "stream",
     "text": [
      "C:\\ProgramData\\Anaconda3\\lib\\site-packages\\numpy\\core\\fromnumeric.py:2389: FutureWarning: Method .ptp is deprecated and will be removed in a future version. Use numpy.ptp instead.\n",
      "  return ptp(axis=axis, out=out, **kwargs)\n"
     ]
    }
   ],
   "source": [
    "# train test split\n",
    "from sklearn.model_selection import train_test_split\n",
    "\n",
    "data3=pd.get_dummies(data,drop_first=True)\n",
    "X=data2.iloc[:,1:]\n",
    "Y=data2.iloc[:,0]\n",
    "X = sm.add_constant(X) # adding a constant\n",
    "xtrain,xtest,ytrain,ytest=train_test_split(X, Y, test_size=0.33, random_state=42)\n",
    "\n",
    "\n",
    "model = sm.OLS(ytrain, xtrain).fit()\n",
    "predictions = model.predict(xtest) \n",
    "\n",
    "print_model = model.summary()\n",
    "print(print_model)"
   ]
  },
  {
   "cell_type": "code",
   "execution_count": 157,
   "metadata": {},
   "outputs": [
    {
     "name": "stdout",
     "output_type": "stream",
     "text": [
      "Rsquared is 0.8668722700803494, Adj Rsquared 0.8335903376004368, and AIC 3413.6213317877946\n"
     ]
    }
   ],
   "source": [
    "p_val=model.pvalues\n",
    "keep=p_val[p_val<0.55]\n",
    "xtrain=xtrain[keep.index]\n",
    "xtest=xtest[keep.index]\n",
    "\n",
    "\n",
    "model = sm.OLS(ytrain, xtrain).fit()\n",
    "predict = model.predict(xtest) \n",
    "\n",
    "print('Rsquared is {}, Adj Rsquared {}, and AIC {}'.format(str(model.rsquared),str(model.rsquared_adj),str(model.aic)))\n"
   ]
  },
  {
   "cell_type": "markdown",
   "metadata": {},
   "source": [
    "<br><br>\n",
    "From here, we see that our model has less Rsquare and Adj resquared but has way less AIC. By using train test, our validation is accurate as our model does not overfit our data (means our model describe training data, but not describing all of the data). By validating using test data, we get more accurate validation of our model prediction "
   ]
  },
  {
   "cell_type": "code",
   "execution_count": 161,
   "metadata": {},
   "outputs": [
    {
     "name": "stdout",
     "output_type": "stream",
     "text": [
      "RMSE :  33383.875618390375\n"
     ]
    },
    {
     "data": {
      "text/html": [
       "<div>\n",
       "<style scoped>\n",
       "    .dataframe tbody tr th:only-of-type {\n",
       "        vertical-align: middle;\n",
       "    }\n",
       "\n",
       "    .dataframe tbody tr th {\n",
       "        vertical-align: top;\n",
       "    }\n",
       "\n",
       "    .dataframe thead th {\n",
       "        text-align: right;\n",
       "    }\n",
       "</style>\n",
       "<table border=\"1\" class=\"dataframe\">\n",
       "  <thead>\n",
       "    <tr style=\"text-align: right;\">\n",
       "      <th></th>\n",
       "      <th>totalprice</th>\n",
       "      <th>predict</th>\n",
       "    </tr>\n",
       "  </thead>\n",
       "  <tbody>\n",
       "    <tr>\n",
       "      <th>100</th>\n",
       "      <td>270000.0</td>\n",
       "      <td>282522.174583</td>\n",
       "    </tr>\n",
       "    <tr>\n",
       "      <th>215</th>\n",
       "      <td>280000.0</td>\n",
       "      <td>270000.255630</td>\n",
       "    </tr>\n",
       "    <tr>\n",
       "      <th>139</th>\n",
       "      <td>257500.0</td>\n",
       "      <td>304460.490417</td>\n",
       "    </tr>\n",
       "    <tr>\n",
       "      <th>178</th>\n",
       "      <td>288000.0</td>\n",
       "      <td>257277.058553</td>\n",
       "    </tr>\n",
       "    <tr>\n",
       "      <th>15</th>\n",
       "      <td>230000.0</td>\n",
       "      <td>247992.994798</td>\n",
       "    </tr>\n",
       "    <tr>\n",
       "      <th>154</th>\n",
       "      <td>354600.0</td>\n",
       "      <td>341025.851210</td>\n",
       "    </tr>\n",
       "    <tr>\n",
       "      <th>170</th>\n",
       "      <td>308000.0</td>\n",
       "      <td>289562.536303</td>\n",
       "    </tr>\n",
       "    <tr>\n",
       "      <th>73</th>\n",
       "      <td>314000.0</td>\n",
       "      <td>282260.381891</td>\n",
       "    </tr>\n",
       "    <tr>\n",
       "      <th>207</th>\n",
       "      <td>228000.0</td>\n",
       "      <td>241561.492750</td>\n",
       "    </tr>\n",
       "    <tr>\n",
       "      <th>140</th>\n",
       "      <td>341000.0</td>\n",
       "      <td>354169.612075</td>\n",
       "    </tr>\n",
       "  </tbody>\n",
       "</table>\n",
       "</div>"
      ],
      "text/plain": [
       "     totalprice        predict\n",
       "100    270000.0  282522.174583\n",
       "215    280000.0  270000.255630\n",
       "139    257500.0  304460.490417\n",
       "178    288000.0  257277.058553\n",
       "15     230000.0  247992.994798\n",
       "154    354600.0  341025.851210\n",
       "170    308000.0  289562.536303\n",
       "73     314000.0  282260.381891\n",
       "207    228000.0  241561.492750\n",
       "140    341000.0  354169.612075"
      ]
     },
     "execution_count": 161,
     "metadata": {},
     "output_type": "execute_result"
    }
   ],
   "source": [
    "compar=pd.DataFrame()\n",
    "compar['totalprice']=ytest\n",
    "compar['predict']=predict\n",
    "mse=mean_squared_error(ytest,predict)\n",
    "print('RMSE : ',np.sqrt(mse))\n",
    "compar.head(10)"
   ]
  },
  {
   "cell_type": "markdown",
   "metadata": {},
   "source": [
    "<br><br>\n",
    "Above we can see the difference between prediction and test. Also RMSE 33383 means that our model has gap on average between prediction and real value 33383. COmpared to 100K, 33383 error is quite good error. "
   ]
  },
  {
   "cell_type": "code",
   "execution_count": 163,
   "metadata": {},
   "outputs": [
    {
     "data": {
      "text/plain": [
       "35    -35067.882906\n",
       "28    -18770.591450\n",
       "42      5536.768371\n",
       "161    44715.220026\n",
       "112   -20137.790699\n",
       "148     -213.549127\n",
       "51    -16819.919483\n",
       "122    11441.314267\n",
       "175   -13934.008178\n",
       "76      5926.134747\n",
       "dtype: float64"
      ]
     },
     "execution_count": 163,
     "metadata": {},
     "output_type": "execute_result"
    }
   ],
   "source": [
    "error=model.resid\n",
    "error.head(10)"
   ]
  },
  {
   "cell_type": "markdown",
   "metadata": {},
   "source": [
    "<br><br>\n",
    "Above, we can see the error on each prediction between test.<br>If we see below column, we can clearly see which columns is needed for our model"
   ]
  },
  {
   "cell_type": "code",
   "execution_count": 164,
   "metadata": {},
   "outputs": [
    {
     "data": {
      "text/plain": [
       "Index(['area', 'rooms', 'toilets', 'garage', 'elevator', 'tras', 'zone_Z21',\n",
       "       'zone_Z31', 'zone_Z32', 'zone_Z35', 'zone_Z36', 'zone_Z37', 'zone_Z38',\n",
       "       'zone_Z41', 'zone_Z42', 'zone_Z43', 'zone_Z44', 'zone_Z47', 'zone_Z48',\n",
       "       'zone_Z56', 'category_2B', 'category_5A', 'out_E25', 'out_E75',\n",
       "       'conservation_B', 'streetcategory_S3', 'streetcategory_S4',\n",
       "       'heating_3A', 'heating_3B'],\n",
       "      dtype='object')"
      ]
     },
     "execution_count": 164,
     "metadata": {},
     "output_type": "execute_result"
    }
   ],
   "source": [
    "xtrain.columns[1:]"
   ]
  }
 ],
 "metadata": {
  "kernelspec": {
   "display_name": "Python 3",
   "language": "python",
   "name": "python3"
  },
  "language_info": {
   "codemirror_mode": {
    "name": "ipython",
    "version": 3
   },
   "file_extension": ".py",
   "mimetype": "text/x-python",
   "name": "python",
   "nbconvert_exporter": "python",
   "pygments_lexer": "ipython3",
   "version": "3.7.3"
  }
 },
 "nbformat": 4,
 "nbformat_minor": 2
}
